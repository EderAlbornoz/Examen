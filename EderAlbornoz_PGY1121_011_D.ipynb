{
  "nbformat": 4,
  "nbformat_minor": 0,
  "metadata": {
    "colab": {
      "provenance": []
    },
    "kernelspec": {
      "name": "python3",
      "display_name": "Python 3"
    },
    "language_info": {
      "name": "python"
    }
  },
  "cells": [
    {
      "cell_type": "code",
      "execution_count": null,
      "metadata": {
        "id": "q444jA56PR9Y"
      },
      "outputs": [],
      "source": [
        "print(\"\")\n",
        "i = 0\n",
        "opcion = 0\n",
        "cant_total = 0\n",
        "platinum = 120000\n",
        "gold = 80000\n",
        "silver = 50000\n",
        "t_platinum = 0\n",
        "t_gold = 0\n",
        "t_silver = 0\n",
        "c_platinum = 0\n",
        "c_gold = 0\n",
        "c_silver = 0\n",
        "comprar = 0\n",
        "ubicaciones = 0\n",
        "asistentes = 0\n",
        "ganancias = 0\n",
        "while True:\n",
        "  print(\"--------------Menu VIP--------------\")\n",
        "  print(\"1.- Comprar entradas                \")\n",
        "  print(\"2.- Mostrar ubicaciones disponibles \")\n",
        "  print(\"3.- Ver listado de asistentes       \")\n",
        "  print(\"4.- Mostrar ganancias totales       \")\n",
        "  print(\"5.- Salir                           \")\n",
        "  try:\n",
        "    opcion = int(input(\"Bienvenido al concierto de Michael Jam, seleccione la opcion que desea: \"))\n",
        "  except:\n",
        "    opcion = 0\n"
      ]
    }
  ]
}